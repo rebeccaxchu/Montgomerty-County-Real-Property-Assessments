{
  "nbformat": 4,
  "nbformat_minor": 0,
  "metadata": {
    "colab": {
      "provenance": [],
      "authorship_tag": "ABX9TyOLwuBiIr8jap7odFDinxNy",
      "include_colab_link": true
    },
    "kernelspec": {
      "name": "python3",
      "display_name": "Python 3"
    },
    "language_info": {
      "name": "python"
    }
  },
  "cells": [
    {
      "cell_type": "markdown",
      "metadata": {
        "id": "view-in-github",
        "colab_type": "text"
      },
      "source": [
        "<a href=\"https://colab.research.google.com/github/rebeccaxchu/Real-Property-Assessments/blob/main/scrips/extract.ipynb\" target=\"_parent\"><img src=\"https://colab.research.google.com/assets/colab-badge.svg\" alt=\"Open In Colab\"/></a>"
      ]
    },
    {
      "cell_type": "code",
      "execution_count": 12,
      "metadata": {
        "id": "VPsNLbOKGxS1",
        "outputId": "c27fadd6-924f-4b40-9268-7efe7549d822",
        "colab": {
          "base_uri": "https://localhost:8080/"
        }
      },
      "outputs": [
        {
          "output_type": "stream",
          "name": "stdout",
          "text": [
            "Requirement already satisfied: azure-storage-blob in /usr/local/lib/python3.10/dist-packages (12.19.1)\n",
            "Requirement already satisfied: azure-core<2.0.0,>=1.28.0 in /usr/local/lib/python3.10/dist-packages (from azure-storage-blob) (1.30.1)\n",
            "Requirement already satisfied: cryptography>=2.1.4 in /usr/local/lib/python3.10/dist-packages (from azure-storage-blob) (42.0.5)\n",
            "Requirement already satisfied: typing-extensions>=4.3.0 in /usr/local/lib/python3.10/dist-packages (from azure-storage-blob) (4.11.0)\n",
            "Requirement already satisfied: isodate>=0.6.1 in /usr/local/lib/python3.10/dist-packages (from azure-storage-blob) (0.6.1)\n",
            "Requirement already satisfied: requests>=2.21.0 in /usr/local/lib/python3.10/dist-packages (from azure-core<2.0.0,>=1.28.0->azure-storage-blob) (2.31.0)\n",
            "Requirement already satisfied: six>=1.11.0 in /usr/local/lib/python3.10/dist-packages (from azure-core<2.0.0,>=1.28.0->azure-storage-blob) (1.16.0)\n",
            "Requirement already satisfied: cffi>=1.12 in /usr/local/lib/python3.10/dist-packages (from cryptography>=2.1.4->azure-storage-blob) (1.16.0)\n",
            "Requirement already satisfied: pycparser in /usr/local/lib/python3.10/dist-packages (from cffi>=1.12->cryptography>=2.1.4->azure-storage-blob) (2.22)\n",
            "Requirement already satisfied: charset-normalizer<4,>=2 in /usr/local/lib/python3.10/dist-packages (from requests>=2.21.0->azure-core<2.0.0,>=1.28.0->azure-storage-blob) (3.3.2)\n",
            "Requirement already satisfied: idna<4,>=2.5 in /usr/local/lib/python3.10/dist-packages (from requests>=2.21.0->azure-core<2.0.0,>=1.28.0->azure-storage-blob) (3.7)\n",
            "Requirement already satisfied: urllib3<3,>=1.21.1 in /usr/local/lib/python3.10/dist-packages (from requests>=2.21.0->azure-core<2.0.0,>=1.28.0->azure-storage-blob) (2.0.7)\n",
            "Requirement already satisfied: certifi>=2017.4.17 in /usr/local/lib/python3.10/dist-packages (from requests>=2.21.0->azure-core<2.0.0,>=1.28.0->azure-storage-blob) (2024.2.2)\n",
            "Collecting sodapy\n",
            "  Downloading sodapy-2.2.0-py2.py3-none-any.whl (15 kB)\n",
            "Requirement already satisfied: requests>=2.28.1 in /usr/local/lib/python3.10/dist-packages (from sodapy) (2.31.0)\n",
            "Requirement already satisfied: charset-normalizer<4,>=2 in /usr/local/lib/python3.10/dist-packages (from requests>=2.28.1->sodapy) (3.3.2)\n",
            "Requirement already satisfied: idna<4,>=2.5 in /usr/local/lib/python3.10/dist-packages (from requests>=2.28.1->sodapy) (3.7)\n",
            "Requirement already satisfied: urllib3<3,>=1.21.1 in /usr/local/lib/python3.10/dist-packages (from requests>=2.28.1->sodapy) (2.0.7)\n",
            "Requirement already satisfied: certifi>=2017.4.17 in /usr/local/lib/python3.10/dist-packages (from requests>=2.28.1->sodapy) (2024.2.2)\n",
            "Installing collected packages: sodapy\n",
            "Successfully installed sodapy-2.2.0\n"
          ]
        }
      ],
      "source": [
        "# import necessary libraries\n",
        "!pip install azure-storage-blob\n",
        "!pip install sodapy\n",
        "import pandas as pd\n",
        "import numpy as np\n",
        "import json\n",
        "import requests\n",
        "from azure.storage.blob import BlobServiceClient, BlobClient, ContainerClient\n",
        "from io import StringIO\n",
        "from sodapy import Socrata"
      ]
    },
    {
      "cell_type": "code",
      "source": [
        "#connect to google drive\n",
        "from google.colab import drive\n",
        "drive.mount('/content/gdrive')"
      ],
      "metadata": {
        "id": "UMY85A8QnsPR",
        "outputId": "ce152395-1683-4884-d498-752e9759d7fb",
        "colab": {
          "base_uri": "https://localhost:8080/"
        }
      },
      "execution_count": 13,
      "outputs": [
        {
          "output_type": "stream",
          "name": "stdout",
          "text": [
            "Drive already mounted at /content/gdrive; to attempt to forcibly remount, call drive.mount(\"/content/gdrive\", force_remount=True).\n"
          ]
        }
      ]
    },
    {
      "cell_type": "code",
      "source": [
        "# Read Original Data\n",
        "client = Socrata(\"opendata.maryland.gov\", None)\n",
        "results = client.get(\"kb22-is2w\", limit=350000)\n",
        "\n",
        "# Convert to pandas DataFrame\n",
        "results_df = pd.DataFrame.from_records(results)"
      ],
      "metadata": {
        "colab": {
          "base_uri": "https://localhost:8080/"
        },
        "id": "3R2XdwNKkKr6",
        "outputId": "24d6ad55-4bc1-4540-cdc5-ecf7cae0ea78"
      },
      "execution_count": 14,
      "outputs": [
        {
          "output_type": "stream",
          "name": "stderr",
          "text": [
            "WARNING:root:Requests made without an app_token will be subject to strict throttling limits.\n"
          ]
        }
      ]
    },
    {
      "cell_type": "code",
      "source": [
        "df_raw=results_df"
      ],
      "metadata": {
        "id": "xkX_5a_1kayN"
      },
      "execution_count": 15,
      "outputs": []
    },
    {
      "cell_type": "code",
      "source": [
        "df_raw.dropna()"
      ],
      "metadata": {
        "colab": {
          "base_uri": "https://localhost:8080/",
          "height": 99
        },
        "id": "9Fnj4oTPG4QB",
        "outputId": "d67670a5-a066-4f2e-c33e-355f4845483b"
      },
      "execution_count": 16,
      "outputs": [
        {
          "output_type": "execute_result",
          "data": {
            "text/plain": [
              "Empty DataFrame\n",
              "Columns: [land_use_code_mdp_field_lu_desclu_sdat_field_50, new_construction_data_county_assessment_credit_sdat_field_192, parent_account_number_account_number_sdat_field_388, additional_c_a_m_a_data_dwelling_construction_code_mdp_field_strucnst_sdat_field_263, last_activity_date_yyyy_mm_dd_sdat_field_392, base_cycle_data_improvements_value_sdat_field_155, base_cycle_data_preferential_land_value_sdat_field_156, parent_account_number_district_ward_sdat_field_387, special_dates_and_data_inchoate_lien_date_yyyy_mm_dd_sdat_field_209, record_key_owner_occupancy_code_mdp_field_ooi_sdat_field_6, property_factors_influence_commer_indust_mdp_field_pfic_sdat_field_69, sales_segment_2_how_conveyed_ind_sdat_field_107, tax_roll_values_municipal_assessment_sdat_field_249, assessment_credit_program_previous_municipal_assmt_cr_sdat_field_200, sales_segment_1_mortgage_mdp_field_mortgag1_sdat_field_92, assessment_credit_program_previous_county_assmt_cr_sdat_field_198, c_a_m_a_system_data_subset_no_sdat_field_237, property_factors_utilities_sewer_mdp_field_pfus_sdat_field_64, assessment_credit_program_previous_state_assmt_cr_sdat_field_196, plat_reference_folio_mdp_field_pltfolio_sdat_field_268, property_factors_influence_historical_mdp_field_pfih_sdat_field_70, multi_parent_account_ind_sdat_field_55, current_assessment_year_circuit_breaker_phase_in_value_sdat_field_175, county_name_mdp_field_cntyname, sales_segment_3_grantor_deed_reference_1_folio_sdat_field_123, current_cycle_data_improvements_value_mdp_field_names_nfmimpvl_curimpvl_and_salimpvl_sdat_field_165, tax_roll_values_homeowner_program_county_liab_sdat_field_254, premise_address_zip_4_code_mdp_field_premzip2_sdat_field_27, special_dates_and_data_country_club_assmt_date_yyyy_mm_dd_sdat_field_210, full_and_partial_exemptions_municipal_exempt_assessment_sdat_field_146, c_a_m_a_system_data_effective_depth_mdp_field_depth_sdat_field_245, additional_c_a_m_a_data_land_valuation_unit_sdat_field_266, sales_segment_1_grantor_deed_reference_1_liber_mdp_field_gr1libr1_sdat_field_82, sales_segment_1_consideration_mdp_field_considr1_sdat_field_90, map_mdp_field_map_sdat_field_42, sales_segment_3_mkt_improvement_value_sdat_field_136, assessment_credit_program_current_county_assmt_cr_sdat_field_199, sales_segment_3_mkt_land_value_sdat_field_135, sales_segment_3_consideration_sdat_field_130, property_factors_street_paved_mdp_field_pfsp_sdat_field_67, additional_c_a_m_a_data_dwelling_type_mdp_field_strubldg_sdat_field_265, county_system_property_code_sdat_field_56, new_construction_data_activity_tax_year_as_of_july_1_sdat_field_189, full_and_partial_exemptions_prior_exempt_municipal_assmt_sdat_field_152, tax_roll_values_state_assessment_credit_sdat_field_250, c_a_m_a_system_data_effective_width_mdp_field_width_sdat_field_244, full_and_partial_exemptions_prior_exempt_municipal_percent_sdat_field_153, plat_reference_liber_mdp_field_pltliber_sdat_field_267, special_dates_and_data_tax_court_date_yyyy_mm_dd_sdat_field_225, base_cycle_data_date_inspected_yyyy_mm_sdat_field_159, full_and_partial_exemptions_county_exempt_assessment_sdat_field_140, new_construction_data_base_land_value_sdat_field_184, base_cycle_data_land_value_sdat_field_154, sales_segment_2_mkt_improvement_value_sdat_field_116, assessment_cycle_year_sdat_field_399, prior_assessment_year_total_assessment_sdat_field_161, file_record_type_sdat_field_400, special_dates_and_data_appeal_board_date_yyyy_mm_dd_sdat_field_226, town_code_mdp_field_towncode_desctown_sdat_field_36, tax_class_sdat_field_58, record_key_district_ward_sdat_field_2, special_dates_and_data_letter_of_intent_date_yyyy_mm_dd_sdat_field_222, sales_segment_2_transfer_date_yyyy_mm_dd_sdat_field_109, tax_roll_values_county_assessment_credit_sdat_field_251, jurisdiction_code_mdp_field_jurscode, tax_roll_values_municipal_assessment_credit_sdat_field_252, full_and_partial_exemptions_state_exempt_assessment_sdat_field_143, account_id_mdp_field_acctid, base_cycle_data_date_assessed_yyyy_mm_sdat_field_158, subdivision_code_mdp_field_subdivsn_sdat_field_37, additional_c_a_m_a_data_building_style_code_and_description_mdp_field_strustyl_descstyl_sdat_field_264, premise_address_number_mdp_field_premsnum_sdat_field_20, record_deletion_date_yyyy_mm_dd_sdat_field_398, current_cycle_data_assessor_code_mdp_field_assessor_sdat_field_170, special_dates_and_data_fcma_code_mdp_field_fcmacode_sdat_field_207, ad_valorem_code_sdat_field_62, sales_segment_3_how_conveyed_ind_sdat_field_127, assessment_credit_program_current_municipal_assmt_cr_sdat_field_201, assessment_credit_program_prior_year_3_municipal_assmt_cr_sdat_field_206, special_dates_and_data_rezoned_reality_date_yyyy_mm_dd_mdp_field_rzrealdat_sdat_field_208, property_factors_utilities_water_mdp_field_pfuw_sdat_field_63, current_cycle_data_preferential_land_value_sdat_field_166, special_dates_and_data_non_perc_area_mdp_field_nprcarea_sdat_field_219, c_a_m_a_system_data_number_of_dwelling_units_mdp_field_bldg_units_sdat_field_239, tax_roll_values_state_assessment_sdat_field_248, record_key_geographic_code_mdp_field_geogcode_sdat_field_5, current_cycle_data_date_inspected_yyyy_mm_mdp_field_lastinsp_sdat_field_168, full_and_partial_exemptions_prior_exempt_county_percent_sdat_field_149, tax_roll_values_county_assessment_sdat_field_247, premise_address_zip_code_mdp_field_premzip_sdat_field_26, tax_roll_values_homeowner_program_total_credit_sdat_field_253, sales_segment_1_how_conveyed_ind_mdp_field_convey1_sdat_field_87, special_dates_and_data_non_perc_test_date_yyyy_mm_dd_mdp_field_nprctstdat_sdat_field_218, property_factors_location_waterfront_mdp_field_pflw_sdat_field_65, premise_address_city_mdp_field_premcity_sdat_field_25, special_dates_and_data_country_club_extension_date_yyyy_mm_dd_sdat_field_212, full_and_partial_exemptions_municipal_exempt_percentage_sdat_field_147, current_assessment_year_total_phase_in_value_sdat_field_171, sales_segment_3_mortgage_sdat_field_132, sales_segment_3_grantor_deed_reference_1_liber_sdat_field_122, ...]\n",
              "Index: []\n",
              "\n",
              "[0 rows x 209 columns]"
            ],
            "text/html": [
              "\n",
              "  <div id=\"df-ffd68f9d-b894-496f-b6fb-a422ae3c4a11\" class=\"colab-df-container\">\n",
              "    <div>\n",
              "<style scoped>\n",
              "    .dataframe tbody tr th:only-of-type {\n",
              "        vertical-align: middle;\n",
              "    }\n",
              "\n",
              "    .dataframe tbody tr th {\n",
              "        vertical-align: top;\n",
              "    }\n",
              "\n",
              "    .dataframe thead th {\n",
              "        text-align: right;\n",
              "    }\n",
              "</style>\n",
              "<table border=\"1\" class=\"dataframe\">\n",
              "  <thead>\n",
              "    <tr style=\"text-align: right;\">\n",
              "      <th></th>\n",
              "      <th>land_use_code_mdp_field_lu_desclu_sdat_field_50</th>\n",
              "      <th>new_construction_data_county_assessment_credit_sdat_field_192</th>\n",
              "      <th>parent_account_number_account_number_sdat_field_388</th>\n",
              "      <th>additional_c_a_m_a_data_dwelling_construction_code_mdp_field_strucnst_sdat_field_263</th>\n",
              "      <th>last_activity_date_yyyy_mm_dd_sdat_field_392</th>\n",
              "      <th>base_cycle_data_improvements_value_sdat_field_155</th>\n",
              "      <th>base_cycle_data_preferential_land_value_sdat_field_156</th>\n",
              "      <th>parent_account_number_district_ward_sdat_field_387</th>\n",
              "      <th>special_dates_and_data_inchoate_lien_date_yyyy_mm_dd_sdat_field_209</th>\n",
              "      <th>record_key_owner_occupancy_code_mdp_field_ooi_sdat_field_6</th>\n",
              "      <th>...</th>\n",
              "      <th>section_mdp_field_section_sdat_field_39</th>\n",
              "      <th>premise_address_direction_mdp_field_premsdir_sdat_field_22</th>\n",
              "      <th>special_dates_and_data_non_perc_area_unit_mdp_field_nprcluom_sdat_field_220</th>\n",
              "      <th>base_cycle_data_assessor_code_sdat_field_160</th>\n",
              "      <th>premise_address_number_suffix_sdat_field_21</th>\n",
              "      <th>record_key_subdistrict_sdat_field_4</th>\n",
              "      <th>municipal_tax_class_sdat_field_59</th>\n",
              "      <th>sales_segment_1_grantor_deed_reference_1_clerk_initials_mdp_field_gr1clrk1_sdat_field_81</th>\n",
              "      <th>special_dates_and_data_critical_area_code_mdp_field_crtarcod_sdat_field_223</th>\n",
              "      <th>sales_segment_2_grantor_deed_reference_1_clerk_initials_sdat_field_101</th>\n",
              "    </tr>\n",
              "  </thead>\n",
              "  <tbody>\n",
              "  </tbody>\n",
              "</table>\n",
              "<p>0 rows × 209 columns</p>\n",
              "</div>\n",
              "    <div class=\"colab-df-buttons\">\n",
              "\n",
              "  <div class=\"colab-df-container\">\n",
              "    <button class=\"colab-df-convert\" onclick=\"convertToInteractive('df-ffd68f9d-b894-496f-b6fb-a422ae3c4a11')\"\n",
              "            title=\"Convert this dataframe to an interactive table.\"\n",
              "            style=\"display:none;\">\n",
              "\n",
              "  <svg xmlns=\"http://www.w3.org/2000/svg\" height=\"24px\" viewBox=\"0 -960 960 960\">\n",
              "    <path d=\"M120-120v-720h720v720H120Zm60-500h600v-160H180v160Zm220 220h160v-160H400v160Zm0 220h160v-160H400v160ZM180-400h160v-160H180v160Zm440 0h160v-160H620v160ZM180-180h160v-160H180v160Zm440 0h160v-160H620v160Z\"/>\n",
              "  </svg>\n",
              "    </button>\n",
              "\n",
              "  <style>\n",
              "    .colab-df-container {\n",
              "      display:flex;\n",
              "      gap: 12px;\n",
              "    }\n",
              "\n",
              "    .colab-df-convert {\n",
              "      background-color: #E8F0FE;\n",
              "      border: none;\n",
              "      border-radius: 50%;\n",
              "      cursor: pointer;\n",
              "      display: none;\n",
              "      fill: #1967D2;\n",
              "      height: 32px;\n",
              "      padding: 0 0 0 0;\n",
              "      width: 32px;\n",
              "    }\n",
              "\n",
              "    .colab-df-convert:hover {\n",
              "      background-color: #E2EBFA;\n",
              "      box-shadow: 0px 1px 2px rgba(60, 64, 67, 0.3), 0px 1px 3px 1px rgba(60, 64, 67, 0.15);\n",
              "      fill: #174EA6;\n",
              "    }\n",
              "\n",
              "    .colab-df-buttons div {\n",
              "      margin-bottom: 4px;\n",
              "    }\n",
              "\n",
              "    [theme=dark] .colab-df-convert {\n",
              "      background-color: #3B4455;\n",
              "      fill: #D2E3FC;\n",
              "    }\n",
              "\n",
              "    [theme=dark] .colab-df-convert:hover {\n",
              "      background-color: #434B5C;\n",
              "      box-shadow: 0px 1px 3px 1px rgba(0, 0, 0, 0.15);\n",
              "      filter: drop-shadow(0px 1px 2px rgba(0, 0, 0, 0.3));\n",
              "      fill: #FFFFFF;\n",
              "    }\n",
              "  </style>\n",
              "\n",
              "    <script>\n",
              "      const buttonEl =\n",
              "        document.querySelector('#df-ffd68f9d-b894-496f-b6fb-a422ae3c4a11 button.colab-df-convert');\n",
              "      buttonEl.style.display =\n",
              "        google.colab.kernel.accessAllowed ? 'block' : 'none';\n",
              "\n",
              "      async function convertToInteractive(key) {\n",
              "        const element = document.querySelector('#df-ffd68f9d-b894-496f-b6fb-a422ae3c4a11');\n",
              "        const dataTable =\n",
              "          await google.colab.kernel.invokeFunction('convertToInteractive',\n",
              "                                                    [key], {});\n",
              "        if (!dataTable) return;\n",
              "\n",
              "        const docLinkHtml = 'Like what you see? Visit the ' +\n",
              "          '<a target=\"_blank\" href=https://colab.research.google.com/notebooks/data_table.ipynb>data table notebook</a>'\n",
              "          + ' to learn more about interactive tables.';\n",
              "        element.innerHTML = '';\n",
              "        dataTable['output_type'] = 'display_data';\n",
              "        await google.colab.output.renderOutput(dataTable, element);\n",
              "        const docLink = document.createElement('div');\n",
              "        docLink.innerHTML = docLinkHtml;\n",
              "        element.appendChild(docLink);\n",
              "      }\n",
              "    </script>\n",
              "  </div>\n",
              "\n",
              "\n",
              "    </div>\n",
              "  </div>\n"
            ],
            "application/vnd.google.colaboratory.intrinsic+json": {
              "type": "dataframe"
            }
          },
          "metadata": {},
          "execution_count": 16
        }
      ]
    },
    {
      "cell_type": "code",
      "source": [
        "df_raw.shape"
      ],
      "metadata": {
        "id": "YMX-71O3koMM",
        "colab": {
          "base_uri": "https://localhost:8080/"
        },
        "outputId": "c61ef112-3832-4b37-cc28-f0125325a807"
      },
      "execution_count": 17,
      "outputs": [
        {
          "output_type": "execute_result",
          "data": {
            "text/plain": [
              "(352228, 209)"
            ]
          },
          "metadata": {},
          "execution_count": 17
        }
      ]
    },
    {
      "cell_type": "code",
      "source": [
        "df_raw.info()"
      ],
      "metadata": {
        "colab": {
          "base_uri": "https://localhost:8080/"
        },
        "id": "po3KQXagG3g7",
        "outputId": "84f45669-27d1-4d5c-8197-74461c8c5ef6"
      },
      "execution_count": 18,
      "outputs": [
        {
          "output_type": "stream",
          "name": "stdout",
          "text": [
            "<class 'pandas.core.frame.DataFrame'>\n",
            "RangeIndex: 352228 entries, 0 to 35227\n",
            "Columns: 209 entries, land_use_code_mdp_field_lu_desclu_sdat_field_50 to sales_segment_2_grantor_deed_reference_1_clerk_initials_sdat_field_101\n",
            "dtypes: object(209)\n",
            "memory usage: 56.2+ MB\n"
          ]
        }
      ]
    },
    {
      "cell_type": "code",
      "source": [
        "df_raw.columns"
      ],
      "metadata": {
        "colab": {
          "base_uri": "https://localhost:8080/"
        },
        "id": "Tnnj_12sm5Ca",
        "outputId": "96eadd9f-a42b-4c18-a832-c4dcf5b8378b"
      },
      "execution_count": 19,
      "outputs": [
        {
          "output_type": "execute_result",
          "data": {
            "text/plain": [
              "Index(['land_use_code_mdp_field_lu_desclu_sdat_field_50',\n",
              "       'new_construction_data_county_assessment_credit_sdat_field_192',\n",
              "       'parent_account_number_account_number_sdat_field_388',\n",
              "       'additional_c_a_m_a_data_dwelling_construction_code_mdp_field_strucnst_sdat_field_263',\n",
              "       'last_activity_date_yyyy_mm_dd_sdat_field_392',\n",
              "       'base_cycle_data_improvements_value_sdat_field_155',\n",
              "       'base_cycle_data_preferential_land_value_sdat_field_156',\n",
              "       'parent_account_number_district_ward_sdat_field_387',\n",
              "       'special_dates_and_data_inchoate_lien_date_yyyy_mm_dd_sdat_field_209',\n",
              "       'record_key_owner_occupancy_code_mdp_field_ooi_sdat_field_6',\n",
              "       ...\n",
              "       'section_mdp_field_section_sdat_field_39',\n",
              "       'premise_address_direction_mdp_field_premsdir_sdat_field_22',\n",
              "       'special_dates_and_data_non_perc_area_unit_mdp_field_nprcluom_sdat_field_220',\n",
              "       'base_cycle_data_assessor_code_sdat_field_160',\n",
              "       'premise_address_number_suffix_sdat_field_21',\n",
              "       'record_key_subdistrict_sdat_field_4',\n",
              "       'municipal_tax_class_sdat_field_59',\n",
              "       'sales_segment_1_grantor_deed_reference_1_clerk_initials_mdp_field_gr1clrk1_sdat_field_81',\n",
              "       'special_dates_and_data_critical_area_code_mdp_field_crtarcod_sdat_field_223',\n",
              "       'sales_segment_2_grantor_deed_reference_1_clerk_initials_sdat_field_101'],\n",
              "      dtype='object', length=209)"
            ]
          },
          "metadata": {},
          "execution_count": 19
        }
      ]
    },
    {
      "cell_type": "code",
      "source": [
        "df_cleaned=df_raw.copy()"
      ],
      "metadata": {
        "id": "afN8zR82pMOW"
      },
      "execution_count": 23,
      "outputs": []
    },
    {
      "cell_type": "code",
      "source": [
        "df_cleaned.info()"
      ],
      "metadata": {
        "colab": {
          "base_uri": "https://localhost:8080/"
        },
        "id": "3A_HySFOp0pG",
        "outputId": "8ef2ea4a-2061-432d-e785-27c05f5997ff"
      },
      "execution_count": 24,
      "outputs": [
        {
          "output_type": "stream",
          "name": "stdout",
          "text": [
            "<class 'pandas.core.frame.DataFrame'>\n",
            "RangeIndex: 352228 entries, 0 to 352227\n",
            "Columns: 209 entries, land_use_code_mdp_field_lu_desclu_sdat_field_50 to sales_segment_2_grantor_deed_reference_1_clerk_initials_sdat_field_101\n",
            "dtypes: object(209)\n",
            "memory usage: 56.2+ MB\n"
          ]
        }
      ]
    },
    {
      "cell_type": "code",
      "source": [
        "\n",
        "# Initialize an empty list to hold the names of columns to drop\n",
        "columns_to_drop = []\n",
        "\n",
        "# Loop through each column in the DataFrame\n",
        "for column in df_raw.columns:\n",
        "    # Calculate the percentage of NaN values in the current column\n",
        "    percent_missing = df_raw[column].isnull().mean() * 100\n",
        "\n",
        "    # If more than 70% of the values in the column are NaN, add it to the list\n",
        "    if percent_missing > 70:\n",
        "        columns_to_drop.append(column)\n",
        "\n",
        "# Create a new DataFrame with just the columns to drop\n",
        "reject_table = df_raw[columns_to_drop]\n",
        "\n",
        "# Drop these columns from the original DataFrame\n",
        "df_cleaned = df_raw.drop(columns=columns_to_drop)\n",
        "\n",
        "# 'df_cleaned' is now your DataFrame without the columns where more than 70% of the values are NaN\n",
        "# 'reject_table' contains the columns that were removed.\n"
      ],
      "metadata": {
        "id": "-yCvz6iSp9aY"
      },
      "execution_count": null,
      "outputs": []
    },
    {
      "cell_type": "code",
      "source": [
        "df_cleaned.shape"
      ],
      "metadata": {
        "colab": {
          "base_uri": "https://localhost:8080/"
        },
        "id": "P0sGXJe7sMiQ",
        "outputId": "854b39f7-2724-4d14-f862-34d28bb10d56"
      },
      "execution_count": 25,
      "outputs": [
        {
          "output_type": "execute_result",
          "data": {
            "text/plain": [
              "(352228, 209)"
            ]
          },
          "metadata": {},
          "execution_count": 25
        }
      ]
    },
    {
      "cell_type": "code",
      "source": [
        "# specify the path to your JSON configuration file\n",
        "config_file_path= '/content/gdrive/MyDrive/Colab Notebooks/mdproperty/credentials.json'\n",
        "\n",
        "# load the JSON configuration file\n",
        "with open(config_file_path, 'r') as config_file:\n",
        "    config = json.load(config_file)\n",
        "\n",
        "Connection_String = config[\"ConnectionString\"]\n",
        "CONTAINER_AZURE= 'mdrealproperty'\n",
        "blob_name='property.csv'"
      ],
      "metadata": {
        "id": "Wl_uQKBRnEhO"
      },
      "execution_count": 27,
      "outputs": []
    },
    {
      "cell_type": "code",
      "source": [
        "# Convert DataFrame to CSV\n",
        "output=StringIO()\n",
        "df_raw.to_csv(output,index=False)\n",
        "data = output.getvalue()\n",
        "output.close()"
      ],
      "metadata": {
        "id": "RrZ5cLRscPiB"
      },
      "execution_count": 28,
      "outputs": []
    },
    {
      "cell_type": "code",
      "source": [
        "# Azure Functions\n",
        "def azure_upload_blob(connect_str, container_name, blob_name, data):\n",
        "    blob_service_client = BlobServiceClient.from_connection_string(connect_str)\n",
        "    blob_client = blob_service_client.get_blob_client(container=container_name, blob=blob_name)\n",
        "    blob_client.upload_blob(data, overwrite=True)\n",
        "    print(f\"Uploaded to Azure Blob: {blob_name}\")\n",
        "\n",
        "def azure_download_blob(connect_str, container_name, blob_name):\n",
        "    blob_service_client = BlobServiceClient.from_connection_string(connect_str)\n",
        "    blob_client = blob_service_client.get_blob_client(container=container_name, blob=blob_name)\n",
        "    download_stream = blob_client.download_blob()\n",
        "    return download_stream.readall()\n"
      ],
      "metadata": {
        "id": "AIw0kfBmdSZf"
      },
      "execution_count": 29,
      "outputs": []
    },
    {
      "cell_type": "code",
      "source": [
        "azure_upload_blob(Connection_String, CONTAINER_AZURE, blob_name, data)"
      ],
      "metadata": {
        "colab": {
          "base_uri": "https://localhost:8080/"
        },
        "id": "Hp6chqmhd5M5",
        "outputId": "0df61996-eb28-4114-b336-7297dae2bda1"
      },
      "execution_count": 30,
      "outputs": [
        {
          "output_type": "stream",
          "name": "stdout",
          "text": [
            "Uploaded to Azure Blob: property.csv\n"
          ]
        }
      ]
    },
    {
      "cell_type": "code",
      "source": [],
      "metadata": {
        "id": "miErQJr5eRjU"
      },
      "execution_count": null,
      "outputs": []
    }
  ]
}
