{
  "cells": [
    {
      "cell_type": "markdown",
      "metadata": {
        "colab_type": "text",
        "id": "view-in-github"
      },
      "source": [
        "<a href=\"https://colab.research.google.com/github/rebeccaxchu/Real-Property-Assessments/blob/main/loading.ipynb\" target=\"_parent\"><img src=\"https://colab.research.google.com/assets/colab-badge.svg\" alt=\"Open In Colab\"/></a>"
      ]
    },
    {
      "cell_type": "code",
      "execution_count": 1,
      "metadata": {
        "id": "VPsNLbOKGxS1"
      },
      "outputs": [
        {
          "ename": "ModuleNotFoundError",
          "evalue": "No module named 'pandas'",
          "output_type": "error",
          "traceback": [
            "\u001b[0;31m---------------------------------------------------------------------------\u001b[0m",
            "\u001b[0;31mModuleNotFoundError\u001b[0m                       Traceback (most recent call last)",
            "Cell \u001b[0;32mIn[1], line 2\u001b[0m\n\u001b[1;32m      1\u001b[0m \u001b[38;5;66;03m# libraries\u001b[39;00m\n\u001b[0;32m----> 2\u001b[0m \u001b[38;5;28;01mimport\u001b[39;00m \u001b[38;5;21;01mpandas\u001b[39;00m \u001b[38;5;28;01mas\u001b[39;00m \u001b[38;5;21;01mpd\u001b[39;00m\n\u001b[1;32m      3\u001b[0m \u001b[38;5;28;01mimport\u001b[39;00m \u001b[38;5;21;01mnumpy\u001b[39;00m \u001b[38;5;28;01mas\u001b[39;00m \u001b[38;5;21;01mnp\u001b[39;00m\n\u001b[1;32m      4\u001b[0m \u001b[38;5;28;01mimport\u001b[39;00m \u001b[38;5;21;01mjson\u001b[39;00m\n",
            "\u001b[0;31mModuleNotFoundError\u001b[0m: No module named 'pandas'"
          ]
        }
      ],
      "source": [
        "# libraries\n",
        "import pandas as pd\n",
        "import numpy as np\n",
        "import json\n",
        "import requests"
      ]
    },
    {
      "cell_type": "code",
      "execution_count": null,
      "metadata": {
        "colab": {
          "base_uri": "https://localhost:8080/"
        },
        "id": "gKwIa9NVCgMr",
        "outputId": "64272eb4-ad57-4ee1-82ac-e3a89b1835b9"
      },
      "outputs": [
        {
          "name": "stdout",
          "output_type": "stream",
          "text": [
            "Collecting sodapy\n",
            "  Downloading sodapy-2.2.0-py2.py3-none-any.whl (15 kB)\n",
            "Requirement already satisfied: requests>=2.28.1 in /usr/local/lib/python3.10/dist-packages (from sodapy) (2.31.0)\n",
            "Requirement already satisfied: charset-normalizer<4,>=2 in /usr/local/lib/python3.10/dist-packages (from requests>=2.28.1->sodapy) (3.3.2)\n",
            "Requirement already satisfied: idna<4,>=2.5 in /usr/local/lib/python3.10/dist-packages (from requests>=2.28.1->sodapy) (3.6)\n",
            "Requirement already satisfied: urllib3<3,>=1.21.1 in /usr/local/lib/python3.10/dist-packages (from requests>=2.28.1->sodapy) (2.0.7)\n",
            "Requirement already satisfied: certifi>=2017.4.17 in /usr/local/lib/python3.10/dist-packages (from requests>=2.28.1->sodapy) (2024.2.2)\n",
            "Installing collected packages: sodapy\n",
            "Successfully installed sodapy-2.2.0\n"
          ]
        }
      ],
      "source": [
        "!pip install sodapy\n",
        "from sodapy import Socrata\n"
      ]
    },
    {
      "cell_type": "code",
      "execution_count": 10,
      "metadata": {
        "colab": {
          "base_uri": "https://localhost:8080/"
        },
        "id": "3R2XdwNKkKr6",
        "outputId": "bdbd58ea-4d05-4104-f359-8b0715294201"
      },
      "outputs": [
        {
          "name": "stderr",
          "output_type": "stream",
          "text": [
            "WARNING:root:Requests made without an app_token will be subject to strict throttling limits.\n"
          ]
        }
      ],
      "source": [
        "# Unauthenticated client only works with public data sets. Note 'None'\n",
        "# in place of application token, and no username or password:\n",
        "client = Socrata(\"opendata.maryland.gov\", None)\n",
        "\n",
        "# Example authenticated client (needed for non-public datasets):\n",
        "# client = Socrata(opendata.maryland.gov,\n",
        "#                  MyAppToken,\n",
        "#                  username=\"user@example.com\",\n",
        "#                  password=\"AFakePassword\")\n",
        "\n",
        "# First 2000 results, returned as JSON from API / converted to Python list of\n",
        "# dictionaries by sodapy.\n",
        "results = client.get(\"kb22-is2w\", limit=35228)\n",
        "\n",
        "# Convert to pandas DataFrame\n",
        "results_df = pd.DataFrame.from_records(results)"
      ]
    },
    {
      "cell_type": "code",
      "execution_count": 11,
      "metadata": {
        "colab": {
          "base_uri": "https://localhost:8080/",
          "height": 256
        },
        "id": "xkX_5a_1kayN",
        "outputId": "216fa1a3-5a58-4715-8109-328d82916414"
      },
      "outputs": [
        {
          "data": {
            "application/vnd.google.colaboratory.intrinsic+json": {
              "type": "dataframe",
              "variable_name": "results_df"
            },
            "text/html": [
              "\n",
              "  <div id=\"df-606d95d2-b923-4741-b7af-a9b5be210591\" class=\"colab-df-container\">\n",
              "    <div>\n",
              "<style scoped>\n",
              "    .dataframe tbody tr th:only-of-type {\n",
              "        vertical-align: middle;\n",
              "    }\n",
              "\n",
              "    .dataframe tbody tr th {\n",
              "        vertical-align: top;\n",
              "    }\n",
              "\n",
              "    .dataframe thead th {\n",
              "        text-align: right;\n",
              "    }\n",
              "</style>\n",
              "<table border=\"1\" class=\"dataframe\">\n",
              "  <thead>\n",
              "    <tr style=\"text-align: right;\">\n",
              "      <th></th>\n",
              "      <th>land_use_code_mdp_field_lu_desclu_sdat_field_50</th>\n",
              "      <th>new_construction_data_county_assessment_credit_sdat_field_192</th>\n",
              "      <th>parent_account_number_account_number_sdat_field_388</th>\n",
              "      <th>additional_c_a_m_a_data_dwelling_construction_code_mdp_field_strucnst_sdat_field_263</th>\n",
              "      <th>last_activity_date_yyyy_mm_dd_sdat_field_392</th>\n",
              "      <th>base_cycle_data_improvements_value_sdat_field_155</th>\n",
              "      <th>base_cycle_data_preferential_land_value_sdat_field_156</th>\n",
              "      <th>parent_account_number_district_ward_sdat_field_387</th>\n",
              "      <th>special_dates_and_data_inchoate_lien_date_yyyy_mm_dd_sdat_field_209</th>\n",
              "      <th>record_key_owner_occupancy_code_mdp_field_ooi_sdat_field_6</th>\n",
              "      <th>...</th>\n",
              "      <th>sales_segment_3_grantor_name_sdat_field_120</th>\n",
              "      <th>legal_description_line_3_mdp_field_legal3_sdat_field_19</th>\n",
              "      <th>special_dates_and_data_non_perc_area_unit_mdp_field_nprcluom_sdat_field_220</th>\n",
              "      <th>sales_segment_1_grantor_deed_reference_1_clerk_initials_mdp_field_gr1clrk1_sdat_field_81</th>\n",
              "      <th>mdp_street_address_units_mdp_field_strtunt</th>\n",
              "      <th>premise_address_number_suffix_sdat_field_21</th>\n",
              "      <th>special_dates_and_data_critical_area_code_mdp_field_crtarcod_sdat_field_223</th>\n",
              "      <th>sales_segment_2_grantor_deed_reference_1_clerk_initials_sdat_field_101</th>\n",
              "      <th>record_key_subdistrict_sdat_field_4</th>\n",
              "      <th>special_dates_and_data_agr_land_pres_fdn_area_unit_mdp_field_agfndluom_sdat_field_214</th>\n",
              "    </tr>\n",
              "  </thead>\n",
              "  <tbody>\n",
              "    <tr>\n",
              "      <th>0</th>\n",
              "      <td>Residential (R)</td>\n",
              "      <td>0</td>\n",
              "      <td>00016905</td>\n",
              "      <td>Blank (000)</td>\n",
              "      <td>2023.07.31</td>\n",
              "      <td>0</td>\n",
              "      <td>0</td>\n",
              "      <td>02</td>\n",
              "      <td>0000.00.00</td>\n",
              "      <td>N</td>\n",
              "      <td>...</td>\n",
              "      <td>NaN</td>\n",
              "      <td>NaN</td>\n",
              "      <td>NaN</td>\n",
              "      <td>NaN</td>\n",
              "      <td>NaN</td>\n",
              "      <td>NaN</td>\n",
              "      <td>NaN</td>\n",
              "      <td>NaN</td>\n",
              "      <td>NaN</td>\n",
              "      <td>NaN</td>\n",
              "    </tr>\n",
              "    <tr>\n",
              "      <th>1</th>\n",
              "      <td>Residential (R)</td>\n",
              "      <td>0</td>\n",
              "      <td>NaN</td>\n",
              "      <td>Blank (000)</td>\n",
              "      <td>2023.07.29</td>\n",
              "      <td>0</td>\n",
              "      <td>0</td>\n",
              "      <td>NaN</td>\n",
              "      <td>0000.00.00</td>\n",
              "      <td>N</td>\n",
              "      <td>...</td>\n",
              "      <td>NaN</td>\n",
              "      <td>NaN</td>\n",
              "      <td>NaN</td>\n",
              "      <td>NaN</td>\n",
              "      <td>NaN</td>\n",
              "      <td>NaN</td>\n",
              "      <td>NaN</td>\n",
              "      <td>NaN</td>\n",
              "      <td>NaN</td>\n",
              "      <td>NaN</td>\n",
              "    </tr>\n",
              "    <tr>\n",
              "      <th>2</th>\n",
              "      <td>Commercial (C)</td>\n",
              "      <td>0</td>\n",
              "      <td>03297617</td>\n",
              "      <td>Blank (000)</td>\n",
              "      <td>2023.10.20</td>\n",
              "      <td>0</td>\n",
              "      <td>0</td>\n",
              "      <td>04</td>\n",
              "      <td>0000.00.00</td>\n",
              "      <td>N</td>\n",
              "      <td>...</td>\n",
              "      <td>NaN</td>\n",
              "      <td>NaN</td>\n",
              "      <td>NaN</td>\n",
              "      <td>NaN</td>\n",
              "      <td>NaN</td>\n",
              "      <td>NaN</td>\n",
              "      <td>NaN</td>\n",
              "      <td>NaN</td>\n",
              "      <td>NaN</td>\n",
              "      <td>NaN</td>\n",
              "    </tr>\n",
              "    <tr>\n",
              "      <th>3</th>\n",
              "      <td>Residential Condominium (U)</td>\n",
              "      <td>0</td>\n",
              "      <td>03501818</td>\n",
              "      <td>Blank (000)</td>\n",
              "      <td>2023.07.29</td>\n",
              "      <td>0</td>\n",
              "      <td>0</td>\n",
              "      <td>02</td>\n",
              "      <td>0000.00.00</td>\n",
              "      <td>N</td>\n",
              "      <td>...</td>\n",
              "      <td>NaN</td>\n",
              "      <td>NaN</td>\n",
              "      <td>NaN</td>\n",
              "      <td>NaN</td>\n",
              "      <td>NaN</td>\n",
              "      <td>NaN</td>\n",
              "      <td>NaN</td>\n",
              "      <td>NaN</td>\n",
              "      <td>NaN</td>\n",
              "      <td>NaN</td>\n",
              "    </tr>\n",
              "    <tr>\n",
              "      <th>4</th>\n",
              "      <td>Residential (R)</td>\n",
              "      <td>0</td>\n",
              "      <td>00019236</td>\n",
              "      <td>Blank (000)</td>\n",
              "      <td>2023.07.29</td>\n",
              "      <td>0</td>\n",
              "      <td>0</td>\n",
              "      <td>02</td>\n",
              "      <td>0000.00.00</td>\n",
              "      <td>N</td>\n",
              "      <td>...</td>\n",
              "      <td>NaN</td>\n",
              "      <td>NaN</td>\n",
              "      <td>NaN</td>\n",
              "      <td>NaN</td>\n",
              "      <td>NaN</td>\n",
              "      <td>NaN</td>\n",
              "      <td>NaN</td>\n",
              "      <td>NaN</td>\n",
              "      <td>NaN</td>\n",
              "      <td>NaN</td>\n",
              "    </tr>\n",
              "  </tbody>\n",
              "</table>\n",
              "<p>5 rows × 209 columns</p>\n",
              "</div>\n",
              "    <div class=\"colab-df-buttons\">\n",
              "\n",
              "  <div class=\"colab-df-container\">\n",
              "    <button class=\"colab-df-convert\" onclick=\"convertToInteractive('df-606d95d2-b923-4741-b7af-a9b5be210591')\"\n",
              "            title=\"Convert this dataframe to an interactive table.\"\n",
              "            style=\"display:none;\">\n",
              "\n",
              "  <svg xmlns=\"http://www.w3.org/2000/svg\" height=\"24px\" viewBox=\"0 -960 960 960\">\n",
              "    <path d=\"M120-120v-720h720v720H120Zm60-500h600v-160H180v160Zm220 220h160v-160H400v160Zm0 220h160v-160H400v160ZM180-400h160v-160H180v160Zm440 0h160v-160H620v160ZM180-180h160v-160H180v160Zm440 0h160v-160H620v160Z\"/>\n",
              "  </svg>\n",
              "    </button>\n",
              "\n",
              "  <style>\n",
              "    .colab-df-container {\n",
              "      display:flex;\n",
              "      gap: 12px;\n",
              "    }\n",
              "\n",
              "    .colab-df-convert {\n",
              "      background-color: #E8F0FE;\n",
              "      border: none;\n",
              "      border-radius: 50%;\n",
              "      cursor: pointer;\n",
              "      display: none;\n",
              "      fill: #1967D2;\n",
              "      height: 32px;\n",
              "      padding: 0 0 0 0;\n",
              "      width: 32px;\n",
              "    }\n",
              "\n",
              "    .colab-df-convert:hover {\n",
              "      background-color: #E2EBFA;\n",
              "      box-shadow: 0px 1px 2px rgba(60, 64, 67, 0.3), 0px 1px 3px 1px rgba(60, 64, 67, 0.15);\n",
              "      fill: #174EA6;\n",
              "    }\n",
              "\n",
              "    .colab-df-buttons div {\n",
              "      margin-bottom: 4px;\n",
              "    }\n",
              "\n",
              "    [theme=dark] .colab-df-convert {\n",
              "      background-color: #3B4455;\n",
              "      fill: #D2E3FC;\n",
              "    }\n",
              "\n",
              "    [theme=dark] .colab-df-convert:hover {\n",
              "      background-color: #434B5C;\n",
              "      box-shadow: 0px 1px 3px 1px rgba(0, 0, 0, 0.15);\n",
              "      filter: drop-shadow(0px 1px 2px rgba(0, 0, 0, 0.3));\n",
              "      fill: #FFFFFF;\n",
              "    }\n",
              "  </style>\n",
              "\n",
              "    <script>\n",
              "      const buttonEl =\n",
              "        document.querySelector('#df-606d95d2-b923-4741-b7af-a9b5be210591 button.colab-df-convert');\n",
              "      buttonEl.style.display =\n",
              "        google.colab.kernel.accessAllowed ? 'block' : 'none';\n",
              "\n",
              "      async function convertToInteractive(key) {\n",
              "        const element = document.querySelector('#df-606d95d2-b923-4741-b7af-a9b5be210591');\n",
              "        const dataTable =\n",
              "          await google.colab.kernel.invokeFunction('convertToInteractive',\n",
              "                                                    [key], {});\n",
              "        if (!dataTable) return;\n",
              "\n",
              "        const docLinkHtml = 'Like what you see? Visit the ' +\n",
              "          '<a target=\"_blank\" href=https://colab.research.google.com/notebooks/data_table.ipynb>data table notebook</a>'\n",
              "          + ' to learn more about interactive tables.';\n",
              "        element.innerHTML = '';\n",
              "        dataTable['output_type'] = 'display_data';\n",
              "        await google.colab.output.renderOutput(dataTable, element);\n",
              "        const docLink = document.createElement('div');\n",
              "        docLink.innerHTML = docLinkHtml;\n",
              "        element.appendChild(docLink);\n",
              "      }\n",
              "    </script>\n",
              "  </div>\n",
              "\n",
              "\n",
              "<div id=\"df-790bc4a3-cff9-498d-80c2-7ba5c8abd339\">\n",
              "  <button class=\"colab-df-quickchart\" onclick=\"quickchart('df-790bc4a3-cff9-498d-80c2-7ba5c8abd339')\"\n",
              "            title=\"Suggest charts\"\n",
              "            style=\"display:none;\">\n",
              "\n",
              "<svg xmlns=\"http://www.w3.org/2000/svg\" height=\"24px\"viewBox=\"0 0 24 24\"\n",
              "     width=\"24px\">\n",
              "    <g>\n",
              "        <path d=\"M19 3H5c-1.1 0-2 .9-2 2v14c0 1.1.9 2 2 2h14c1.1 0 2-.9 2-2V5c0-1.1-.9-2-2-2zM9 17H7v-7h2v7zm4 0h-2V7h2v10zm4 0h-2v-4h2v4z\"/>\n",
              "    </g>\n",
              "</svg>\n",
              "  </button>\n",
              "\n",
              "<style>\n",
              "  .colab-df-quickchart {\n",
              "      --bg-color: #E8F0FE;\n",
              "      --fill-color: #1967D2;\n",
              "      --hover-bg-color: #E2EBFA;\n",
              "      --hover-fill-color: #174EA6;\n",
              "      --disabled-fill-color: #AAA;\n",
              "      --disabled-bg-color: #DDD;\n",
              "  }\n",
              "\n",
              "  [theme=dark] .colab-df-quickchart {\n",
              "      --bg-color: #3B4455;\n",
              "      --fill-color: #D2E3FC;\n",
              "      --hover-bg-color: #434B5C;\n",
              "      --hover-fill-color: #FFFFFF;\n",
              "      --disabled-bg-color: #3B4455;\n",
              "      --disabled-fill-color: #666;\n",
              "  }\n",
              "\n",
              "  .colab-df-quickchart {\n",
              "    background-color: var(--bg-color);\n",
              "    border: none;\n",
              "    border-radius: 50%;\n",
              "    cursor: pointer;\n",
              "    display: none;\n",
              "    fill: var(--fill-color);\n",
              "    height: 32px;\n",
              "    padding: 0;\n",
              "    width: 32px;\n",
              "  }\n",
              "\n",
              "  .colab-df-quickchart:hover {\n",
              "    background-color: var(--hover-bg-color);\n",
              "    box-shadow: 0 1px 2px rgba(60, 64, 67, 0.3), 0 1px 3px 1px rgba(60, 64, 67, 0.15);\n",
              "    fill: var(--button-hover-fill-color);\n",
              "  }\n",
              "\n",
              "  .colab-df-quickchart-complete:disabled,\n",
              "  .colab-df-quickchart-complete:disabled:hover {\n",
              "    background-color: var(--disabled-bg-color);\n",
              "    fill: var(--disabled-fill-color);\n",
              "    box-shadow: none;\n",
              "  }\n",
              "\n",
              "  .colab-df-spinner {\n",
              "    border: 2px solid var(--fill-color);\n",
              "    border-color: transparent;\n",
              "    border-bottom-color: var(--fill-color);\n",
              "    animation:\n",
              "      spin 1s steps(1) infinite;\n",
              "  }\n",
              "\n",
              "  @keyframes spin {\n",
              "    0% {\n",
              "      border-color: transparent;\n",
              "      border-bottom-color: var(--fill-color);\n",
              "      border-left-color: var(--fill-color);\n",
              "    }\n",
              "    20% {\n",
              "      border-color: transparent;\n",
              "      border-left-color: var(--fill-color);\n",
              "      border-top-color: var(--fill-color);\n",
              "    }\n",
              "    30% {\n",
              "      border-color: transparent;\n",
              "      border-left-color: var(--fill-color);\n",
              "      border-top-color: var(--fill-color);\n",
              "      border-right-color: var(--fill-color);\n",
              "    }\n",
              "    40% {\n",
              "      border-color: transparent;\n",
              "      border-right-color: var(--fill-color);\n",
              "      border-top-color: var(--fill-color);\n",
              "    }\n",
              "    60% {\n",
              "      border-color: transparent;\n",
              "      border-right-color: var(--fill-color);\n",
              "    }\n",
              "    80% {\n",
              "      border-color: transparent;\n",
              "      border-right-color: var(--fill-color);\n",
              "      border-bottom-color: var(--fill-color);\n",
              "    }\n",
              "    90% {\n",
              "      border-color: transparent;\n",
              "      border-bottom-color: var(--fill-color);\n",
              "    }\n",
              "  }\n",
              "</style>\n",
              "\n",
              "  <script>\n",
              "    async function quickchart(key) {\n",
              "      const quickchartButtonEl =\n",
              "        document.querySelector('#' + key + ' button');\n",
              "      quickchartButtonEl.disabled = true;  // To prevent multiple clicks.\n",
              "      quickchartButtonEl.classList.add('colab-df-spinner');\n",
              "      try {\n",
              "        const charts = await google.colab.kernel.invokeFunction(\n",
              "            'suggestCharts', [key], {});\n",
              "      } catch (error) {\n",
              "        console.error('Error during call to suggestCharts:', error);\n",
              "      }\n",
              "      quickchartButtonEl.classList.remove('colab-df-spinner');\n",
              "      quickchartButtonEl.classList.add('colab-df-quickchart-complete');\n",
              "    }\n",
              "    (() => {\n",
              "      let quickchartButtonEl =\n",
              "        document.querySelector('#df-790bc4a3-cff9-498d-80c2-7ba5c8abd339 button');\n",
              "      quickchartButtonEl.style.display =\n",
              "        google.colab.kernel.accessAllowed ? 'block' : 'none';\n",
              "    })();\n",
              "  </script>\n",
              "</div>\n",
              "\n",
              "    </div>\n",
              "  </div>\n"
            ],
            "text/plain": [
              "  land_use_code_mdp_field_lu_desclu_sdat_field_50  \\\n",
              "0                                 Residential (R)   \n",
              "1                                 Residential (R)   \n",
              "2                                  Commercial (C)   \n",
              "3                     Residential Condominium (U)   \n",
              "4                                 Residential (R)   \n",
              "\n",
              "  new_construction_data_county_assessment_credit_sdat_field_192  \\\n",
              "0                                                  0              \n",
              "1                                                  0              \n",
              "2                                                  0              \n",
              "3                                                  0              \n",
              "4                                                  0              \n",
              "\n",
              "  parent_account_number_account_number_sdat_field_388  \\\n",
              "0                                           00016905    \n",
              "1                                                NaN    \n",
              "2                                           03297617    \n",
              "3                                           03501818    \n",
              "4                                           00019236    \n",
              "\n",
              "  additional_c_a_m_a_data_dwelling_construction_code_mdp_field_strucnst_sdat_field_263  \\\n",
              "0                                        Blank (000)                                     \n",
              "1                                        Blank (000)                                     \n",
              "2                                        Blank (000)                                     \n",
              "3                                        Blank (000)                                     \n",
              "4                                        Blank (000)                                     \n",
              "\n",
              "  last_activity_date_yyyy_mm_dd_sdat_field_392  \\\n",
              "0                                   2023.07.31   \n",
              "1                                   2023.07.29   \n",
              "2                                   2023.10.20   \n",
              "3                                   2023.07.29   \n",
              "4                                   2023.07.29   \n",
              "\n",
              "  base_cycle_data_improvements_value_sdat_field_155  \\\n",
              "0                                                 0   \n",
              "1                                                 0   \n",
              "2                                                 0   \n",
              "3                                                 0   \n",
              "4                                                 0   \n",
              "\n",
              "  base_cycle_data_preferential_land_value_sdat_field_156  \\\n",
              "0                                                  0       \n",
              "1                                                  0       \n",
              "2                                                  0       \n",
              "3                                                  0       \n",
              "4                                                  0       \n",
              "\n",
              "  parent_account_number_district_ward_sdat_field_387  \\\n",
              "0                                                 02   \n",
              "1                                                NaN   \n",
              "2                                                 04   \n",
              "3                                                 02   \n",
              "4                                                 02   \n",
              "\n",
              "  special_dates_and_data_inchoate_lien_date_yyyy_mm_dd_sdat_field_209  \\\n",
              "0                                         0000.00.00                    \n",
              "1                                         0000.00.00                    \n",
              "2                                         0000.00.00                    \n",
              "3                                         0000.00.00                    \n",
              "4                                         0000.00.00                    \n",
              "\n",
              "  record_key_owner_occupancy_code_mdp_field_ooi_sdat_field_6  ...  \\\n",
              "0                                                  N          ...   \n",
              "1                                                  N          ...   \n",
              "2                                                  N          ...   \n",
              "3                                                  N          ...   \n",
              "4                                                  N          ...   \n",
              "\n",
              "  sales_segment_3_grantor_name_sdat_field_120  \\\n",
              "0                                         NaN   \n",
              "1                                         NaN   \n",
              "2                                         NaN   \n",
              "3                                         NaN   \n",
              "4                                         NaN   \n",
              "\n",
              "  legal_description_line_3_mdp_field_legal3_sdat_field_19  \\\n",
              "0                                                NaN        \n",
              "1                                                NaN        \n",
              "2                                                NaN        \n",
              "3                                                NaN        \n",
              "4                                                NaN        \n",
              "\n",
              "  special_dates_and_data_non_perc_area_unit_mdp_field_nprcluom_sdat_field_220  \\\n",
              "0                                                NaN                            \n",
              "1                                                NaN                            \n",
              "2                                                NaN                            \n",
              "3                                                NaN                            \n",
              "4                                                NaN                            \n",
              "\n",
              "  sales_segment_1_grantor_deed_reference_1_clerk_initials_mdp_field_gr1clrk1_sdat_field_81  \\\n",
              "0                                                NaN                                         \n",
              "1                                                NaN                                         \n",
              "2                                                NaN                                         \n",
              "3                                                NaN                                         \n",
              "4                                                NaN                                         \n",
              "\n",
              "  mdp_street_address_units_mdp_field_strtunt  \\\n",
              "0                                        NaN   \n",
              "1                                        NaN   \n",
              "2                                        NaN   \n",
              "3                                        NaN   \n",
              "4                                        NaN   \n",
              "\n",
              "  premise_address_number_suffix_sdat_field_21  \\\n",
              "0                                         NaN   \n",
              "1                                         NaN   \n",
              "2                                         NaN   \n",
              "3                                         NaN   \n",
              "4                                         NaN   \n",
              "\n",
              "  special_dates_and_data_critical_area_code_mdp_field_crtarcod_sdat_field_223  \\\n",
              "0                                                NaN                            \n",
              "1                                                NaN                            \n",
              "2                                                NaN                            \n",
              "3                                                NaN                            \n",
              "4                                                NaN                            \n",
              "\n",
              "  sales_segment_2_grantor_deed_reference_1_clerk_initials_sdat_field_101  \\\n",
              "0                                                NaN                       \n",
              "1                                                NaN                       \n",
              "2                                                NaN                       \n",
              "3                                                NaN                       \n",
              "4                                                NaN                       \n",
              "\n",
              "  record_key_subdistrict_sdat_field_4  \\\n",
              "0                                 NaN   \n",
              "1                                 NaN   \n",
              "2                                 NaN   \n",
              "3                                 NaN   \n",
              "4                                 NaN   \n",
              "\n",
              "  special_dates_and_data_agr_land_pres_fdn_area_unit_mdp_field_agfndluom_sdat_field_214  \n",
              "0                                                NaN                                     \n",
              "1                                                NaN                                     \n",
              "2                                                NaN                                     \n",
              "3                                                NaN                                     \n",
              "4                                                NaN                                     \n",
              "\n",
              "[5 rows x 209 columns]"
            ]
          },
          "execution_count": 11,
          "metadata": {},
          "output_type": "execute_result"
        }
      ],
      "source": [
        "results_df.head()"
      ]
    },
    {
      "cell_type": "code",
      "execution_count": 12,
      "metadata": {
        "colab": {
          "base_uri": "https://localhost:8080/"
        },
        "id": "YMX-71O3koMM",
        "outputId": "1872eb89-a181-4bf5-cf1f-65235214fcd5"
      },
      "outputs": [
        {
          "data": {
            "text/plain": [
              "(35228, 209)"
            ]
          },
          "execution_count": 12,
          "metadata": {},
          "output_type": "execute_result"
        }
      ],
      "source": [
        "results_df.shape"
      ]
    },
    {
      "cell_type": "code",
      "execution_count": 13,
      "metadata": {
        "colab": {
          "base_uri": "https://localhost:8080/"
        },
        "id": "Tnnj_12sm5Ca",
        "outputId": "266cf7cf-b208-4485-d3e7-6f1ce3afde61"
      },
      "outputs": [
        {
          "data": {
            "text/plain": [
              "Index(['land_use_code_mdp_field_lu_desclu_sdat_field_50',\n",
              "       'new_construction_data_county_assessment_credit_sdat_field_192',\n",
              "       'parent_account_number_account_number_sdat_field_388',\n",
              "       'additional_c_a_m_a_data_dwelling_construction_code_mdp_field_strucnst_sdat_field_263',\n",
              "       'last_activity_date_yyyy_mm_dd_sdat_field_392',\n",
              "       'base_cycle_data_improvements_value_sdat_field_155',\n",
              "       'base_cycle_data_preferential_land_value_sdat_field_156',\n",
              "       'parent_account_number_district_ward_sdat_field_387',\n",
              "       'special_dates_and_data_inchoate_lien_date_yyyy_mm_dd_sdat_field_209',\n",
              "       'record_key_owner_occupancy_code_mdp_field_ooi_sdat_field_6',\n",
              "       ...\n",
              "       'sales_segment_3_grantor_name_sdat_field_120',\n",
              "       'legal_description_line_3_mdp_field_legal3_sdat_field_19',\n",
              "       'special_dates_and_data_non_perc_area_unit_mdp_field_nprcluom_sdat_field_220',\n",
              "       'sales_segment_1_grantor_deed_reference_1_clerk_initials_mdp_field_gr1clrk1_sdat_field_81',\n",
              "       'mdp_street_address_units_mdp_field_strtunt',\n",
              "       'premise_address_number_suffix_sdat_field_21',\n",
              "       'special_dates_and_data_critical_area_code_mdp_field_crtarcod_sdat_field_223',\n",
              "       'sales_segment_2_grantor_deed_reference_1_clerk_initials_sdat_field_101',\n",
              "       'record_key_subdistrict_sdat_field_4',\n",
              "       'special_dates_and_data_agr_land_pres_fdn_area_unit_mdp_field_agfndluom_sdat_field_214'],\n",
              "      dtype='object', length=209)"
            ]
          },
          "execution_count": 13,
          "metadata": {},
          "output_type": "execute_result"
        }
      ],
      "source": [
        "results_df.columns"
      ]
    },
    {
      "cell_type": "code",
      "execution_count": 15,
      "metadata": {
        "colab": {
          "base_uri": "https://localhost:8080/"
        },
        "id": "XdEN1885neHL",
        "outputId": "429cbd54-3270-4887-a078-891a4138ea88"
      },
      "outputs": [
        {
          "name": "stdout",
          "output_type": "stream",
          "text": [
            "<class 'pandas.core.frame.DataFrame'>\n",
            "RangeIndex: 35228 entries, 0 to 35227\n",
            "Columns: 209 entries, land_use_code_mdp_field_lu_desclu_sdat_field_50 to special_dates_and_data_agr_land_pres_fdn_area_unit_mdp_field_agfndluom_sdat_field_214\n",
            "dtypes: object(209)\n",
            "memory usage: 56.2+ MB\n",
            "None\n"
          ]
        }
      ],
      "source": [
        "print(results_df.info())"
      ]
    },
    {
      "cell_type": "code",
      "execution_count": 20,
      "metadata": {
        "id": "afN8zR82pMOW"
      },
      "outputs": [],
      "source": [
        "df_raw=results_df.copy()"
      ]
    },
    {
      "cell_type": "code",
      "execution_count": 18,
      "metadata": {
        "colab": {
          "base_uri": "https://localhost:8080/"
        },
        "id": "3A_HySFOp0pG",
        "outputId": "771a6d5a-eef9-40c7-9c5c-6cce12bfdf14"
      },
      "outputs": [
        {
          "name": "stdout",
          "output_type": "stream",
          "text": [
            "<class 'pandas.core.frame.DataFrame'>\n",
            "RangeIndex: 35228 entries, 0 to 35227\n",
            "Columns: 209 entries, land_use_code_mdp_field_lu_desclu_sdat_field_50 to special_dates_and_data_agr_land_pres_fdn_area_unit_mdp_field_agfndluom_sdat_field_214\n",
            "dtypes: object(209)\n",
            "memory usage: 56.2+ MB\n"
          ]
        }
      ],
      "source": [
        "df_cleaned.info()"
      ]
    },
    {
      "cell_type": "code",
      "execution_count": 19,
      "metadata": {
        "colab": {
          "base_uri": "https://localhost:8080/"
        },
        "id": "anVXLM7op45v",
        "outputId": "b835ca25-affb-4f18-83a7-926412f2f413"
      },
      "outputs": [
        {
          "data": {
            "text/plain": [
              "(35228, 209)"
            ]
          },
          "execution_count": 19,
          "metadata": {},
          "output_type": "execute_result"
        }
      ],
      "source": [
        "df_cleaned.shape"
      ]
    },
    {
      "cell_type": "code",
      "execution_count": 22,
      "metadata": {
        "id": "-yCvz6iSp9aY"
      },
      "outputs": [],
      "source": [
        "\n",
        "# Initialize an empty list to hold the names of columns to drop\n",
        "columns_to_drop = []\n",
        "\n",
        "# Loop through each column in the DataFrame\n",
        "for column in df_raw.columns:\n",
        "    # Calculate the percentage of NaN values in the current column\n",
        "    percent_missing = df_raw[column].isnull().mean() * 100\n",
        "\n",
        "    # If more than 70% of the values in the column are NaN, add it to the list\n",
        "    if percent_missing > 70:\n",
        "        columns_to_drop.append(column)\n",
        "\n",
        "# Create a new DataFrame with just the columns to drop\n",
        "reject_table = df_raw[columns_to_drop]\n",
        "\n",
        "# Drop these columns from the original DataFrame\n",
        "df_cleaned = df_raw.drop(columns=columns_to_drop)\n",
        "\n",
        "# 'df_cleaned' is now your DataFrame without the columns where more than 70% of the values are NaN\n",
        "# 'reject_table' contains the columns that were removed.\n"
      ]
    },
    {
      "cell_type": "code",
      "execution_count": 23,
      "metadata": {
        "colab": {
          "base_uri": "https://localhost:8080/"
        },
        "id": "P0sGXJe7sMiQ",
        "outputId": "cd66acfb-1543-48f3-8e54-14e481f9ca58"
      },
      "outputs": [
        {
          "data": {
            "text/plain": [
              "(35228, 195)"
            ]
          },
          "execution_count": 23,
          "metadata": {},
          "output_type": "execute_result"
        }
      ],
      "source": [
        "df_cleaned.shape"
      ]
    },
    {
      "cell_type": "code",
      "execution_count": 24,
      "metadata": {
        "colab": {
          "base_uri": "https://localhost:8080/"
        },
        "id": "ewYpjI95sPz6",
        "outputId": "1a8109cd-8c71-499a-e601-76421b4b97e0"
      },
      "outputs": [
        {
          "name": "stdout",
          "output_type": "stream",
          "text": [
            "<class 'pandas.core.frame.DataFrame'>\n",
            "RangeIndex: 35228 entries, 0 to 35227\n",
            "Columns: 195 entries, land_use_code_mdp_field_lu_desclu_sdat_field_50 to sales_segment_3_grantor_name_sdat_field_120\n",
            "dtypes: object(195)\n",
            "memory usage: 52.4+ MB\n"
          ]
        }
      ],
      "source": [
        "df_cleaned.info()"
      ]
    },
    {
      "cell_type": "code",
      "execution_count": null,
      "metadata": {
        "id": "5IIubgcNsUwJ"
      },
      "outputs": [],
      "source": []
    }
  ],
  "metadata": {
    "colab": {
      "authorship_tag": "ABX9TyMLiYPPR2MdrZskg6aF+P/p",
      "include_colab_link": true,
      "provenance": []
    },
    "kernelspec": {
      "display_name": "Python 3",
      "name": "python3"
    },
    "language_info": {
      "codemirror_mode": {
        "name": "ipython",
        "version": 3
      },
      "file_extension": ".py",
      "mimetype": "text/x-python",
      "name": "python",
      "nbconvert_exporter": "python",
      "pygments_lexer": "ipython3",
      "version": "3.11.8"
    }
  },
  "nbformat": 4,
  "nbformat_minor": 0
}
